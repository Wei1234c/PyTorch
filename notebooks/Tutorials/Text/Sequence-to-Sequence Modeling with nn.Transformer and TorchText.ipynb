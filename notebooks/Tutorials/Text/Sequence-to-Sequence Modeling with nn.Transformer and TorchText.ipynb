{
 "cells": [
  {
   "cell_type": "markdown",
   "metadata": {},
   "source": [
    "# Sequence-to-Sequence Modeling with nn.Transformer and TorchText\n",
    "https://pytorch.org/tutorials/beginner/transformer_tutorial.html  \n",
    "\n",
    "This is a tutorial on how to train a sequence-to-sequence model\n",
    "that uses the\n",
    "[nn.Transformer](https://pytorch.org/docs/master/nn.html?highlight=nn%20transformer#torch.nn.Transformer) module.\n",
    "\n",
    "PyTorch 1.2 release includes a standard transformer module based on the\n",
    "paper [Attention is All You Need](https://arxiv.org/pdf/1706.03762.pdf). The transformer model\n",
    "has been proved to be superior in quality for many sequence-to-sequence\n",
    "problems while being more parallelizable. The `nn.Transformer` module\n",
    "relies entirely on an attention mechanism (another module recently\n",
    "implemented as [nn.MultiheadAttention](https://pytorch.org/docs/master/nn.html?highlight=multiheadattention#torch.nn.MultiheadAttention)) to draw global dependencies\n",
    "between input and output. The `nn.Transformer` module is now highly\n",
    "modularized such that a single component (like [nn.TransformerEncoder](https://pytorch.org/docs/master/nn.html?highlight=nn%20transformerencoder#torch.nn.TransformerEncoder)\n",
    "in this tutorial) can be easily adapted/composed.\n",
    "\n",
    "![](https://pytorch.org/tutorials/_images/transformer_architecture.jpg)\n",
    "\n",
    "\n",
    "\n"
   ]
  },
  {
   "cell_type": "markdown",
   "metadata": {},
   "source": [
    "Define the model\n",
    "----------------\n",
    "\n",
    "\n"
   ]
  },
  {
   "cell_type": "markdown",
   "metadata": {},
   "source": [
    "In this tutorial, we train `nn.TransformerEncoder` model on a\n",
    "language modeling task. The language modeling task is to assign a\n",
    "probability for the likelihood of a given word (or a sequence of words)\n",
    "to follow a sequence of words. A sequence of tokens are passed to the embedding\n",
    "layer first, followed by a positional encoding layer to account for the order\n",
    "of the word (see the next paragraph for more details). The\n",
    "`nn.TransformerEncoder` consists of multiple layers of\n",
    "[nn.TransformerEncoderLayer](https://pytorch.org/docs/master/nn.html?highlight=transformerencoderlayer#torch.nn.TransformerEncoderLayer). Along with the input sequence, a square\n",
    "attention mask is required because the self-attention layers in\n",
    "`nn.TransformerEncoder` are only allowed to attend the earlier positions in\n",
    "the sequence. For the language modeling task, any tokens on the future\n",
    "positions should be masked. To have the actual words, the output\n",
    "of `nn.TransformerEncoder` model is sent to the final Linear\n",
    "layer, which is followed by a log-Softmax function."
   ]
  },
  {
   "cell_type": "code",
   "execution_count": null,
   "metadata": {},
   "outputs": [],
   "source": [
    "%pylab inline"
   ]
  },
  {
   "cell_type": "code",
   "execution_count": 1,
   "metadata": {},
   "outputs": [],
   "source": [
    "import math\n",
    "import torch\n",
    "import torch.nn as nn\n",
    "import torch.nn.functional as F\n",
    "\n",
    "\n",
    "\n",
    "class TransformerModel(nn.Module):\n",
    "\n",
    "    def __init__(self, ntoken, ninp, nhead, nhid, nlayers, dropout = 0.5):\n",
    "        super(TransformerModel, self).__init__()\n",
    "\n",
    "        from torch.nn import TransformerEncoder, TransformerEncoderLayer\n",
    "\n",
    "        self.model_type = 'Transformer'\n",
    "        self.pos_encoder = PositionalEncoding(ninp, dropout)\n",
    "        encoder_layers = TransformerEncoderLayer(ninp, nhead, nhid, dropout)\n",
    "        self.transformer_encoder = TransformerEncoder(encoder_layers, nlayers)\n",
    "        self.encoder = nn.Embedding(ntoken, ninp)\n",
    "        self.ninp = ninp\n",
    "        self.decoder = nn.Linear(ninp, ntoken)\n",
    "\n",
    "        self.init_weights()\n",
    "\n",
    "\n",
    "    def generate_square_subsequent_mask(self, sz):\n",
    "        mask = (torch.triu(torch.ones(sz, sz)) == 1).transpose(0, 1)\n",
    "        mask = mask.float().masked_fill(mask == 0, float('-inf')).masked_fill(mask == 1, float(0.0))\n",
    "        return mask\n",
    "\n",
    "\n",
    "    def init_weights(self):\n",
    "        initrange = 0.1\n",
    "        self.encoder.weight.data.uniform_(-initrange, initrange)\n",
    "        self.decoder.bias.data.zero_()\n",
    "        self.decoder.weight.data.uniform_(-initrange, initrange)\n",
    "\n",
    "\n",
    "    def forward(self, src, src_mask):\n",
    "        src = self.encoder(src) * math.sqrt(self.ninp)\n",
    "        src = self.pos_encoder(src)\n",
    "        output = self.transformer_encoder(src, src_mask)\n",
    "        output = self.decoder(output)\n",
    "        return output"
   ]
  },
  {
   "cell_type": "markdown",
   "metadata": {},
   "source": [
    "`PositionalEncoding` module injects some information about the\n",
    "relative or absolute position of the tokens in the sequence. The\n",
    "positional encodings have the same dimension as the embeddings so that\n",
    "the two can be summed. Here, we use `sine` and `cosine` functions of\n",
    "different frequencies.\n",
    "\n",
    "\n"
   ]
  },
  {
   "cell_type": "code",
   "execution_count": 2,
   "metadata": {},
   "outputs": [],
   "source": [
    "class PositionalEncoding(nn.Module):\n",
    "\n",
    "    def __init__(self, d_model, dropout = 0.1, max_len = 5000):\n",
    "        super(PositionalEncoding, self).__init__()\n",
    "        \n",
    "        self.dropout = nn.Dropout(p = dropout)\n",
    "        pe = torch.zeros(max_len, d_model)\n",
    "        position = torch.arange(0, max_len, dtype = torch.float).unsqueeze(1)\n",
    "        div_term = torch.exp(torch.arange(0, d_model, 2).float() * (-math.log(10000.0) / d_model))\n",
    "        pe[:, 0::2] = torch.sin(position * div_term)\n",
    "        pe[:, 1::2] = torch.cos(position * div_term)\n",
    "        pe = pe.unsqueeze(0).transpose(0, 1)\n",
    "        self.register_buffer('pe', pe)\n",
    "\n",
    "\n",
    "    def forward(self, x):\n",
    "        x = x + self.pe[:x.size(0), :]\n",
    "        return self.dropout(x)"
   ]
  },
  {
   "cell_type": "markdown",
   "metadata": {},
   "source": [
    "Load and batch data\n",
    "-------------------\n",
    "\n",
    "\n"
   ]
  },
  {
   "cell_type": "markdown",
   "metadata": {},
   "source": [
    "This tutorial uses `torchtext` to generate Wikitext-2 dataset. The\n",
    "vocab object is built based on the train dataset and is used to numericalize\n",
    "tokens into tensors. Starting from sequential data, the `batchify()`\n",
    "function arranges the dataset into columns, trimming off any tokens remaining\n",
    "after the data has been divided into batches of size `batch_size`.\n",
    "For instance, with the alphabet as the sequence (total length of 26)\n",
    "and a batch size of 4, we would divide the alphabet into 4 sequences of\n",
    "length 6:\n",
    "\n",
    "\\begin{align}\\begin{bmatrix}\n",
    "  \\text{A} & \\text{B} & \\text{C} & \\ldots & \\text{X} & \\text{Y} & \\text{Z}\n",
    "  \\end{bmatrix}\n",
    "  \\Rightarrow\n",
    "  \\begin{bmatrix}\n",
    "  \\begin{bmatrix}\\text{A} \\\\ \\text{B} \\\\ \\text{C} \\\\ \\text{D} \\\\ \\text{E} \\\\ \\text{F}\\end{bmatrix} &\n",
    "  \\begin{bmatrix}\\text{G} \\\\ \\text{H} \\\\ \\text{I} \\\\ \\text{J} \\\\ \\text{K} \\\\ \\text{L}\\end{bmatrix} &\n",
    "  \\begin{bmatrix}\\text{M} \\\\ \\text{N} \\\\ \\text{O} \\\\ \\text{P} \\\\ \\text{Q} \\\\ \\text{R}\\end{bmatrix} &\n",
    "  \\begin{bmatrix}\\text{S} \\\\ \\text{T} \\\\ \\text{U} \\\\ \\text{V} \\\\ \\text{W} \\\\ \\text{X}\\end{bmatrix}\n",
    "  \\end{bmatrix}\\end{align}\n",
    "\n",
    "These columns are treated as independent by the model, which means that\n",
    "the dependence of `G` and `F` can not be learned, but allows more\n",
    "efficient batch processing.\n",
    "\n",
    "\n"
   ]
  },
  {
   "cell_type": "code",
   "execution_count": 4,
   "metadata": {},
   "outputs": [
    {
     "name": "stderr",
     "output_type": "stream",
     "text": [
      ".data\\wikitext-2-v1.zip: 100%|█████████████████████████████████████████████████████| 4.48M/4.48M [00:26<00:00, 167kB/s]\n",
      "36718lines [00:01, 24576.57lines/s]\n"
     ]
    }
   ],
   "source": [
    "import io\n",
    "import torch\n",
    "from torchtext.data.utils import get_tokenizer\n",
    "from torchtext.utils import download_from_url, extract_archive\n",
    "from torchtext.vocab import build_vocab_from_iterator\n",
    "\n",
    "\n",
    "url = 'https://s3.amazonaws.com/research.metamind.io/wikitext/wikitext-2-v1.zip'\n",
    "test_filepath, valid_filepath, train_filepath = extract_archive(download_from_url(url))\n",
    "tokenizer = get_tokenizer('basic_english')\n",
    "vocab = build_vocab_from_iterator(map(tokenizer, iter(io.open(train_filepath, encoding = \"utf8\"))))\n",
    "\n",
    "\n",
    "\n",
    "def data_process(raw_text_iter):\n",
    "    data = [torch.tensor([vocab[token] for token in tokenizer(item)], dtype = torch.long)\n",
    "            for item in raw_text_iter]\n",
    "    return torch.cat(tuple(filter(lambda t: t.numel() > 0, data)))\n",
    "\n",
    "\n",
    "\n",
    "train_data = data_process(iter(io.open(train_filepath, encoding = \"utf8\")))\n",
    "val_data = data_process(iter(io.open(valid_filepath, encoding = \"utf8\")))\n",
    "test_data = data_process(iter(io.open(test_filepath, encoding = \"utf8\")))\n",
    "\n",
    "device = torch.device(\"cuda\" if torch.cuda.is_available() else \"cpu\")\n",
    "\n",
    "\n",
    "\n",
    "def batchify(data, bsz):\n",
    "    # Divide the dataset into bsz parts.\n",
    "    nbatch = data.size(0) // bsz\n",
    "    # Trim off any extra elements that wouldn't cleanly fit (remainders).\n",
    "    data = data.narrow(0, 0, nbatch * bsz)\n",
    "    # Evenly divide the data across the bsz batches.\n",
    "    data = data.view(bsz, -1).t().contiguous()\n",
    "    return data.to(device)\n",
    "\n",
    "\n",
    "\n",
    "batch_size = 20\n",
    "eval_batch_size = 10\n",
    "train_data = batchify(train_data, batch_size)\n",
    "val_data = batchify(val_data, eval_batch_size)\n",
    "test_data = batchify(test_data, eval_batch_size)"
   ]
  },
  {
   "cell_type": "markdown",
   "metadata": {},
   "source": [
    "## Functions to generate input and target sequence"
   ]
  },
  {
   "cell_type": "markdown",
   "metadata": {},
   "source": [
    "`get_batch()` function generates the input and target sequence for\n",
    "the transformer model. It subdivides the source data into chunks of\n",
    "length `bptt`. For the language modeling task, the model needs the\n",
    "following words as `Target`. For example, with a `bptt` value of 2,\n",
    "we’d get the following two Variables for `i` = 0:\n",
    "\n",
    "![](https://pytorch.org/tutorials/_images/transformer_input_target.png)\n",
    "\n",
    "\n",
    "It should be noted that the chunks are along dimension 0, consistent\n",
    "with the `S` dimension in the Transformer model. The batch dimension\n",
    "`N` is along dimension 1."
   ]
  },
  {
   "cell_type": "code",
   "execution_count": 5,
   "metadata": {},
   "outputs": [],
   "source": [
    "bptt = 35\n",
    "\n",
    "def get_batch(source, i):\n",
    "    seq_len = min(bptt, len(source) - 1 - i)\n",
    "    data = source[i:i+seq_len]\n",
    "    target = source[i+1:i+1+seq_len].reshape(-1)\n",
    "    return data, target"
   ]
  },
  {
   "cell_type": "markdown",
   "metadata": {},
   "source": [
    "Initiate an instance\n",
    "--------------------\n",
    "\n",
    "\n"
   ]
  },
  {
   "cell_type": "markdown",
   "metadata": {},
   "source": [
    "The model is set up with the hyperparameter below. The vocab size is\n",
    "equal to the length of the vocab object.\n",
    "\n",
    "\n"
   ]
  },
  {
   "cell_type": "code",
   "execution_count": 6,
   "metadata": {},
   "outputs": [],
   "source": [
    "ntokens = len(vocab.stoi) # the size of vocabulary\n",
    "emsize = 200 # embedding dimension\n",
    "nhid = 200 # the dimension of the feedforward network model in nn.TransformerEncoder\n",
    "nlayers = 2 # the number of nn.TransformerEncoderLayer in nn.TransformerEncoder\n",
    "nhead = 2 # the number of heads in the multiheadattention models\n",
    "dropout = 0.2 # the dropout value\n",
    "model = TransformerModel(ntokens, emsize, nhead, nhid, nlayers, dropout).to(device)"
   ]
  },
  {
   "cell_type": "markdown",
   "metadata": {},
   "source": [
    "Run the model\n",
    "-------------\n",
    "\n",
    "\n"
   ]
  },
  {
   "cell_type": "markdown",
   "metadata": {},
   "source": [
    "[CrossEntropyLoss](https://pytorch.org/docs/master/nn.html?highlight=crossentropyloss#torch.nn.CrossEntropyLoss)\n",
    "is applied to track the loss and\n",
    "[SGD](https://pytorch.org/docs/master/optim.html?highlight=sgd#torch.optim.SGD)\n",
    "implements stochastic gradient descent method as the optimizer. The initial\n",
    "learning rate is set to 5.0. [StepLR](https://pytorch.org/docs/master/optim.html?highlight=steplr#torch.optim.lr_scheduler.StepLR) is\n",
    "applied to adjust the learn rate through epochs. During the\n",
    "training, we use\n",
    "[nn.utils.clip_grad_norm\\_](https://pytorch.org/docs/master/nn.html?highlight=nn%20utils%20clip_grad_norm#torch.nn.utils.clip_grad_norm_)\n",
    "function to scale all the gradient together to prevent exploding.\n",
    "\n",
    "\n"
   ]
  },
  {
   "cell_type": "code",
   "execution_count": 7,
   "metadata": {},
   "outputs": [],
   "source": [
    "import time\n",
    "\n",
    "\n",
    "criterion = nn.CrossEntropyLoss()\n",
    "lr = 5.0  # learning rate\n",
    "optimizer = torch.optim.SGD(model.parameters(), lr = lr)\n",
    "scheduler = torch.optim.lr_scheduler.StepLR(optimizer, 1.0, gamma = 0.95)\n",
    "\n",
    "\n",
    "\n",
    "def train():\n",
    "    model.train()  # Turn on the train mode\n",
    "    total_loss = 0.\n",
    "    start_time = time.time()\n",
    "    src_mask = model.generate_square_subsequent_mask(bptt).to(device)\n",
    "\n",
    "    for batch, i in enumerate(range(0, train_data.size(0) - 1, bptt)):\n",
    "        data, targets = get_batch(train_data, i)\n",
    "        optimizer.zero_grad()\n",
    "\n",
    "        if data.size(0) != bptt:\n",
    "            src_mask = model.generate_square_subsequent_mask(data.size(0)).to(device)\n",
    "\n",
    "        output = model(data, src_mask)\n",
    "        loss = criterion(output.view(-1, ntokens), targets)\n",
    "        loss.backward()\n",
    "        torch.nn.utils.clip_grad_norm_(model.parameters(), 0.5)\n",
    "        optimizer.step()\n",
    "\n",
    "        total_loss += loss.item()\n",
    "        log_interval = 200\n",
    "\n",
    "        if batch % log_interval == 0 and batch > 0:\n",
    "            cur_loss = total_loss / log_interval\n",
    "            elapsed = time.time() - start_time\n",
    "\n",
    "            print('| epoch {:3d} | {:5d}/{:5d} batches | '\n",
    "                  'lr {:02.2f} | ms/batch {:5.2f} | '\n",
    "                  'loss {:5.2f} | ppl {:8.2f}'.format(\n",
    "                epoch, batch, len(train_data) // bptt, scheduler.get_lr()[0],\n",
    "                              elapsed * 1000 / log_interval,\n",
    "                cur_loss, math.exp(cur_loss)))\n",
    "\n",
    "            total_loss = 0\n",
    "            start_time = time.time()\n",
    "\n",
    "\n",
    "\n",
    "def evaluate(eval_model, data_source):\n",
    "    eval_model.eval()  # Turn on the evaluation mode\n",
    "    total_loss = 0.\n",
    "    src_mask = model.generate_square_subsequent_mask(bptt).to(device)\n",
    "\n",
    "    with torch.no_grad():\n",
    "\n",
    "        for i in range(0, data_source.size(0) - 1, bptt):\n",
    "            data, targets = get_batch(data_source, i)\n",
    "\n",
    "            if data.size(0) != bptt:\n",
    "                src_mask = model.generate_square_subsequent_mask(data.size(0)).to(device)\n",
    "\n",
    "            output = eval_model(data, src_mask)\n",
    "            output_flat = output.view(-1, ntokens)\n",
    "            total_loss += len(data) * criterion(output_flat, targets).item()\n",
    "            \n",
    "    return total_loss / (len(data_source) - 1)"
   ]
  },
  {
   "cell_type": "markdown",
   "metadata": {},
   "source": [
    "Loop over epochs. Save the model if the validation loss is the best\n",
    "we've seen so far. Adjust the learning rate after each epoch.\n",
    "\n"
   ]
  },
  {
   "cell_type": "code",
   "execution_count": 8,
   "metadata": {},
   "outputs": [
    {
     "name": "stderr",
     "output_type": "stream",
     "text": [
      "C:\\Softwares\\Python\\lib\\site-packages\\torch\\optim\\lr_scheduler.py:369: UserWarning: To get the last learning rate computed by the scheduler, please use `get_last_lr()`.\n",
      "  warnings.warn(\"To get the last learning rate computed by the scheduler, \"\n"
     ]
    },
    {
     "name": "stdout",
     "output_type": "stream",
     "text": [
      "| epoch   1 |   200/ 2928 batches | lr 5.00 | ms/batch 53.03 | loss  8.07 | ppl  3212.88\n",
      "| epoch   1 |   400/ 2928 batches | lr 5.00 | ms/batch 49.47 | loss  6.87 | ppl   963.16\n",
      "| epoch   1 |   600/ 2928 batches | lr 5.00 | ms/batch 50.70 | loss  6.43 | ppl   622.48\n",
      "| epoch   1 |   800/ 2928 batches | lr 5.00 | ms/batch 52.12 | loss  6.29 | ppl   541.43\n",
      "| epoch   1 |  1000/ 2928 batches | lr 5.00 | ms/batch 52.41 | loss  6.18 | ppl   484.34\n",
      "| epoch   1 |  1200/ 2928 batches | lr 5.00 | ms/batch 53.19 | loss  6.15 | ppl   470.90\n",
      "| epoch   1 |  1400/ 2928 batches | lr 5.00 | ms/batch 53.03 | loss  6.11 | ppl   451.13\n",
      "| epoch   1 |  1600/ 2928 batches | lr 5.00 | ms/batch 52.88 | loss  6.10 | ppl   447.74\n",
      "| epoch   1 |  1800/ 2928 batches | lr 5.00 | ms/batch 53.60 | loss  6.02 | ppl   412.39\n",
      "| epoch   1 |  2000/ 2928 batches | lr 5.00 | ms/batch 53.94 | loss  6.01 | ppl   407.72\n",
      "| epoch   1 |  2200/ 2928 batches | lr 5.00 | ms/batch 54.16 | loss  5.90 | ppl   363.38\n",
      "| epoch   1 |  2400/ 2928 batches | lr 5.00 | ms/batch 54.48 | loss  5.97 | ppl   391.45\n",
      "| epoch   1 |  2600/ 2928 batches | lr 5.00 | ms/batch 56.54 | loss  5.95 | ppl   383.63\n",
      "| epoch   1 |  2800/ 2928 batches | lr 5.00 | ms/batch 56.51 | loss  5.88 | ppl   357.70\n",
      "-----------------------------------------------------------------------------------------\n",
      "| end of epoch   1 | time: 162.70s | valid loss  5.82 | valid ppl   336.52\n",
      "-----------------------------------------------------------------------------------------\n",
      "| epoch   2 |   200/ 2928 batches | lr 4.51 | ms/batch 56.83 | loss  5.86 | ppl   349.40\n",
      "| epoch   2 |   400/ 2928 batches | lr 4.51 | ms/batch 58.79 | loss  5.85 | ppl   346.71\n",
      "| epoch   2 |   600/ 2928 batches | lr 4.51 | ms/batch 58.53 | loss  5.66 | ppl   286.26\n",
      "| epoch   2 |   800/ 2928 batches | lr 4.51 | ms/batch 57.74 | loss  5.70 | ppl   299.22\n",
      "| epoch   2 |  1000/ 2928 batches | lr 4.51 | ms/batch 58.25 | loss  5.65 | ppl   284.06\n",
      "| epoch   2 |  1200/ 2928 batches | lr 4.51 | ms/batch 58.58 | loss  5.68 | ppl   293.17\n",
      "| epoch   2 |  1400/ 2928 batches | lr 4.51 | ms/batch 57.97 | loss  5.69 | ppl   296.32\n",
      "| epoch   2 |  1600/ 2928 batches | lr 4.51 | ms/batch 58.28 | loss  5.72 | ppl   305.51\n",
      "| epoch   2 |  1800/ 2928 batches | lr 4.51 | ms/batch 59.62 | loss  5.65 | ppl   284.59\n",
      "| epoch   2 |  2000/ 2928 batches | lr 4.51 | ms/batch 60.31 | loss  5.68 | ppl   291.85\n",
      "| epoch   2 |  2200/ 2928 batches | lr 4.51 | ms/batch 58.99 | loss  5.56 | ppl   259.30\n",
      "| epoch   2 |  2400/ 2928 batches | lr 4.51 | ms/batch 59.75 | loss  5.65 | ppl   283.74\n",
      "| epoch   2 |  2600/ 2928 batches | lr 4.51 | ms/batch 60.34 | loss  5.65 | ppl   284.07\n",
      "| epoch   2 |  2800/ 2928 batches | lr 4.51 | ms/batch 60.27 | loss  5.58 | ppl   265.00\n",
      "-----------------------------------------------------------------------------------------\n",
      "| end of epoch   2 | time: 178.99s | valid loss  5.70 | valid ppl   297.53\n",
      "-----------------------------------------------------------------------------------------\n",
      "| epoch   3 |   200/ 2928 batches | lr 4.29 | ms/batch 58.99 | loss  5.61 | ppl   272.95\n",
      "| epoch   3 |   400/ 2928 batches | lr 4.29 | ms/batch 59.16 | loss  5.62 | ppl   276.04\n",
      "| epoch   3 |   600/ 2928 batches | lr 4.29 | ms/batch 59.28 | loss  5.42 | ppl   226.93\n",
      "| epoch   3 |   800/ 2928 batches | lr 4.29 | ms/batch 59.76 | loss  5.48 | ppl   240.81\n",
      "| epoch   3 |  1000/ 2928 batches | lr 4.29 | ms/batch 61.09 | loss  5.44 | ppl   229.58\n",
      "| epoch   3 |  1200/ 2928 batches | lr 4.29 | ms/batch 61.06 | loss  5.48 | ppl   240.18\n",
      "| epoch   3 |  1400/ 2928 batches | lr 4.29 | ms/batch 60.52 | loss  5.49 | ppl   242.67\n",
      "| epoch   3 |  1600/ 2928 batches | lr 4.29 | ms/batch 60.84 | loss  5.52 | ppl   250.87\n",
      "| epoch   3 |  1800/ 2928 batches | lr 4.29 | ms/batch 59.81 | loss  5.47 | ppl   237.68\n",
      "| epoch   3 |  2000/ 2928 batches | lr 4.29 | ms/batch 59.17 | loss  5.50 | ppl   243.60\n",
      "| epoch   3 |  2200/ 2928 batches | lr 4.29 | ms/batch 61.08 | loss  5.36 | ppl   213.35\n",
      "| epoch   3 |  2400/ 2928 batches | lr 4.29 | ms/batch 61.14 | loss  5.47 | ppl   237.53\n",
      "| epoch   3 |  2600/ 2928 batches | lr 4.29 | ms/batch 63.81 | loss  5.47 | ppl   237.38\n",
      "| epoch   3 |  2800/ 2928 batches | lr 4.29 | ms/batch 61.30 | loss  5.41 | ppl   224.14\n",
      "-----------------------------------------------------------------------------------------\n",
      "| end of epoch   3 | time: 184.36s | valid loss  5.59 | valid ppl   268.77\n",
      "-----------------------------------------------------------------------------------------\n"
     ]
    }
   ],
   "source": [
    "best_val_loss = float(\"inf\")\n",
    "epochs = 3  # The number of epochs\n",
    "best_model = None\n",
    "\n",
    "for epoch in range(1, epochs + 1):\n",
    "    epoch_start_time = time.time()\n",
    "    train()\n",
    "    val_loss = evaluate(model, val_data)\n",
    "\n",
    "    print('-' * 89)\n",
    "    print('| end of epoch {:3d} | time: {:5.2f}s | valid loss {:5.2f} | '\n",
    "          'valid ppl {:8.2f}'.format(epoch, (time.time() - epoch_start_time),\n",
    "                                     val_loss, math.exp(val_loss)))\n",
    "    print('-' * 89)\n",
    "\n",
    "    if val_loss < best_val_loss:\n",
    "        best_val_loss = val_loss\n",
    "        best_model = model\n",
    "\n",
    "    scheduler.step()"
   ]
  },
  {
   "cell_type": "markdown",
   "metadata": {},
   "source": [
    "Evaluate the model with the test dataset\n",
    "-------------------------------------\n",
    "\n",
    "Apply the best model to check the result with the test dataset.\n",
    "\n"
   ]
  },
  {
   "cell_type": "code",
   "execution_count": 9,
   "metadata": {},
   "outputs": [
    {
     "name": "stdout",
     "output_type": "stream",
     "text": [
      "=========================================================================================\n",
      "| End of training | test loss  5.51 | test ppl   246.35\n",
      "=========================================================================================\n"
     ]
    }
   ],
   "source": [
    "test_loss = evaluate(best_model, test_data)\n",
    "print('=' * 89)\n",
    "print('| End of training | test loss {:5.2f} | test ppl {:8.2f}'.format(test_loss, math.exp(test_loss)))\n",
    "print('=' * 89)"
   ]
  }
 ],
 "metadata": {
  "kernelspec": {
   "display_name": "Python 3",
   "language": "python",
   "name": "python3"
  },
  "language_info": {
   "codemirror_mode": {
    "name": "ipython",
    "version": 3
   },
   "file_extension": ".py",
   "mimetype": "text/x-python",
   "name": "python",
   "nbconvert_exporter": "python",
   "pygments_lexer": "ipython3",
   "version": "3.8.5"
  }
 },
 "nbformat": 4,
 "nbformat_minor": 1
}
