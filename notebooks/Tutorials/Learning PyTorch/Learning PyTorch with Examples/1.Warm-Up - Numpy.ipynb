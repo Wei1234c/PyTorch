{
 "cells": [
  {
   "cell_type": "markdown",
   "metadata": {},
   "source": [
    "# Warm-Up: Numpy\n",
    "https://pytorch.org/tutorials/beginner/examples_tensor/polynomial_numpy.html#sphx-glr-beginner-examples-tensor-polynomial-numpy-py"
   ]
  },
  {
   "cell_type": "code",
   "execution_count": 25,
   "metadata": {},
   "outputs": [
    {
     "name": "stdout",
     "output_type": "stream",
     "text": [
      "Populating the interactive namespace from numpy and matplotlib\n"
     ]
    }
   ],
   "source": [
    "%pylab inline"
   ]
  },
  {
   "cell_type": "markdown",
   "metadata": {},
   "source": [
    "\n",
    "Warm-up: numpy\n",
    "--------------\n",
    "\n",
    "A third order polynomial, trained to predict $y=\\sin(x)$ from $-\\pi$\n",
    "to $pi$ by minimizing squared Euclidean distance.\n",
    "\n",
    "This implementation uses numpy to manually compute the forward pass, loss, and\n",
    "backward pass.\n",
    "\n",
    "A numpy array is a generic n-dimensional array; it does not know anything about\n",
    "deep learning or gradients or computational graphs, and is just a way to perform\n",
    "generic numeric computations.\n",
    "\n"
   ]
  },
  {
   "cell_type": "code",
   "execution_count": 40,
   "metadata": {},
   "outputs": [
    {
     "name": "stdout",
     "output_type": "stream",
     "text": [
      "999 101.97477419475781\n",
      "1999 11.726137848379551\n",
      "2999 8.908380700987276\n",
      "3999 8.820031709615758\n",
      "4999 8.817255577034647\n",
      "5999 8.817168248018778\n",
      "6999 8.817165499358703\n",
      "7999 8.817165412820563\n",
      "8999 8.817165410095624\n",
      "9999 8.817165410009814\n",
      "10999 8.817165410007112\n",
      "11999 8.817165410007025\n",
      "12999 8.817165410007025\n",
      "13999 8.817165410007025\n",
      "14999 8.817165410007027\n",
      "15999 8.817165410007027\n",
      "16999 8.817165410007027\n",
      "17999 8.817165410007025\n",
      "18999 8.817165410007027\n",
      "19999 8.817165410007027\n",
      "Result: y = 1.7338252099057296e-15 + 0.8567408430738107 * x + -3.0026982319033536e-16 * x**2 + -0.09333038904060258 * x**3\n"
     ]
    }
   ],
   "source": [
    "import math\n",
    "\n",
    "n = 1\n",
    "# Create random input and output data\n",
    "x = np.linspace(-n * math.pi, n * math.pi, 2000)\n",
    "y = np.sin(x)\n",
    "\n",
    "# Randomly initialize weights\n",
    "a = np.random.randn()\n",
    "b = np.random.randn()\n",
    "c = np.random.randn()\n",
    "d = np.random.randn()\n",
    "\n",
    "learning_rate = 1e-6\n",
    "\n",
    "for t in range(20000):\n",
    "    # Forward pass: compute predicted y\n",
    "    # y = a + b x + c x^2 + d x^3\n",
    "    y_pred = a + b * x + c * x ** 2 + d * x ** 3\n",
    "\n",
    "    # Compute and print loss\n",
    "    loss = np.square(y_pred - y).sum()\n",
    "    \n",
    "    if t % 1000 == 999:\n",
    "        print(t, loss)\n",
    "\n",
    "    # Backprop to compute gradients of a, b, c, d with respect to loss\n",
    "    grad_y_pred = 2 * (y_pred - y)\n",
    "    grad_a = (grad_y_pred * x ** 0).sum()\n",
    "    grad_b = (grad_y_pred * x ** 1).sum()\n",
    "    grad_c = (grad_y_pred * x ** 2).sum()\n",
    "    grad_d = (grad_y_pred * x ** 3).sum()\n",
    "\n",
    "    # Update weights\n",
    "    a -= learning_rate * grad_a\n",
    "    b -= learning_rate * grad_b\n",
    "    c -= learning_rate * grad_c\n",
    "    d -= learning_rate * grad_d\n",
    "\n",
    "print(f'Result: y = {a} + {b} * x + {c} * x**2 + {d} * x**3')"
   ]
  },
  {
   "cell_type": "code",
   "execution_count": 41,
   "metadata": {},
   "outputs": [
    {
     "data": {
      "image/png": "[encoded data removed]",
      "text/plain": [
       "<Figure size 432x288 with 1 Axes>"
      ]
     },
     "metadata": {
      "needs_background": "light"
     },
     "output_type": "display_data"
    }
   ],
   "source": [
    "x = np.linspace(-n * math.pi, n * math.pi, 2000)\n",
    "y = a + b * x + c * x ** 2 + d * x ** 3\n",
    "\n",
    "plt.plot(x, y);\n",
    "plt.plot(x, np.sin(x));"
   ]
  }
 ],
 "metadata": {
  "kernelspec": {
   "display_name": "Python 3",
   "language": "python",
   "name": "python3"
  },
  "language_info": {
   "codemirror_mode": {
    "name": "ipython",
    "version": 3
   },
   "file_extension": ".py",
   "mimetype": "text/x-python",
   "name": "python",
   "nbconvert_exporter": "python",
   "pygments_lexer": "ipython3",
   "version": "3.8.5"
  }
 },
 "nbformat": 4,
 "nbformat_minor": 1
}
