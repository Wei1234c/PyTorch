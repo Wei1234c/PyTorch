{
 "cells": [
  {
   "cell_type": "markdown",
   "metadata": {},
   "source": [
    "# Pytorch: Custom NN Modules\n",
    "https://pytorch.org/tutorials/beginner/examples_nn/polynomial_module.html  "
   ]
  },
  {
   "cell_type": "code",
   "execution_count": 1,
   "metadata": {},
   "outputs": [
    {
     "name": "stdout",
     "output_type": "stream",
     "text": [
      "Populating the interactive namespace from numpy and matplotlib\n"
     ]
    }
   ],
   "source": [
    "%pylab inline"
   ]
  },
  {
   "cell_type": "markdown",
   "metadata": {},
   "source": [
    "\n",
    "PyTorch: Custom nn Modules\n",
    "--------------------------\n",
    "\n",
    "A third order polynomial, trained to predict $y=\\sin(x)$ from $-\\pi$\n",
    "to $pi$ by minimizing squared Euclidean distance.\n",
    "\n",
    "This implementation defines the model as a custom Module subclass. Whenever you\n",
    "want a model more complex than a simple sequence of existing Modules you will\n",
    "need to define your model this way.\n",
    "\n"
   ]
  },
  {
   "cell_type": "code",
   "execution_count": 2,
   "metadata": {},
   "outputs": [],
   "source": [
    "import math\n",
    "import torch\n",
    "\n",
    "# Create Tensors to hold input and outputs.\n",
    "x = torch.linspace(-math.pi, math.pi, 2000)\n",
    "y = torch.sin(x)"
   ]
  },
  {
   "cell_type": "markdown",
   "metadata": {},
   "source": [
    "### Custom NN Modules"
   ]
  },
  {
   "cell_type": "code",
   "execution_count": null,
   "metadata": {},
   "outputs": [],
   "source": [
    "# 要建立一些 require_grad = True 的 parameters，並使用這些 parameters 來建立 foward 的 function\n",
    "\n",
    "class Polynomial3(torch.nn.Module):\n",
    "\n",
    "    def __init__(self):\n",
    "        \"\"\"\n",
    "        In the constructor we instantiate four parameters and assign them as\n",
    "        member parameters.\n",
    "        \"\"\"\n",
    "        super().__init__()\n",
    "        self.a = torch.nn.Parameter(torch.randn(()))\n",
    "        self.b = torch.nn.Parameter(torch.randn(()))\n",
    "        self.c = torch.nn.Parameter(torch.randn(()))\n",
    "        self.d = torch.nn.Parameter(torch.randn(()))\n",
    "\n",
    "\n",
    "    def forward(self, x):\n",
    "        \"\"\"\n",
    "        In the forward function we accept a Tensor of input data and we must return\n",
    "        a Tensor of output data. We can use Modules defined in the constructor as\n",
    "        well as arbitrary operators on Tensors.\n",
    "        \"\"\"\n",
    "        return self.a + self.b * x + self.c * x ** 2 + self.d * x ** 3\n",
    "\n",
    "\n",
    "    def string(self):\n",
    "        \"\"\"\n",
    "        Just like any class in Python, you can also define custom method on PyTorch modules\n",
    "        \"\"\"\n",
    "        return f'y = {self.a.item()} + {self.b.item()} * x + {self.c.item()} * x**2 + {self.d.item()} * x**3'"
   ]
  },
  {
   "cell_type": "code",
   "execution_count": 4,
   "metadata": {},
   "outputs": [
    {
     "data": {
      "text/plain": [
       "OrderedDict([('a',\n",
       "              Parameter containing:\n",
       "              tensor(-0.3363, requires_grad=True)),\n",
       "             ('b',\n",
       "              Parameter containing:\n",
       "              tensor(0.1475, requires_grad=True)),\n",
       "             ('c',\n",
       "              Parameter containing:\n",
       "              tensor(3.1196, requires_grad=True)),\n",
       "             ('d',\n",
       "              Parameter containing:\n",
       "              tensor(0.6859, requires_grad=True))])"
      ]
     },
     "execution_count": 4,
     "metadata": {},
     "output_type": "execute_result"
    }
   ],
   "source": [
    "# Construct our model by instantiating the class defined above\n",
    "model = Polynomial3()\n",
    "model._parameters"
   ]
  },
  {
   "cell_type": "code",
   "execution_count": 5,
   "metadata": {},
   "outputs": [],
   "source": [
    "# Construct our loss function and an Optimizer. \n",
    "# The call to model.parameters() in the SGD constructor will contain\n",
    "# the learnable parameters of the nn.Linear module which is members of the model.\n",
    "criterion = torch.nn.MSELoss(reduction = 'sum')\n",
    "optimizer = torch.optim.SGD(model.parameters(), lr = 1e-6)"
   ]
  },
  {
   "cell_type": "code",
   "execution_count": 6,
   "metadata": {},
   "outputs": [
    {
     "name": "stdout",
     "output_type": "stream",
     "text": [
      "99 916.4989624023438\n",
      "199 630.14599609375\n",
      "299 434.6304931640625\n",
      "399 300.9725341796875\n",
      "499 209.49624633789062\n",
      "599 146.8174591064453\n",
      "699 103.82135772705078\n",
      "799 74.29342651367188\n",
      "899 53.992000579833984\n",
      "999 40.018428802490234\n",
      "1099 30.389726638793945\n",
      "1199 23.747760772705078\n",
      "1299 19.161090850830078\n",
      "1399 15.99047565460205\n",
      "1499 13.796431541442871\n",
      "1599 12.276651382446289\n",
      "1699 11.222908020019531\n",
      "1799 10.491569519042969\n",
      "1899 9.983529090881348\n",
      "1999 9.63028335571289\n"
     ]
    },
    {
     "data": {
      "text/plain": [
       "'Result: y = -0.026745673269033432 + 0.8438939452171326 * x + 0.004614072386175394 * x**2 + -0.09150303155183792 * x**3'"
      ]
     },
     "execution_count": 6,
     "metadata": {},
     "output_type": "execute_result"
    }
   ],
   "source": [
    "for t in range(2000):\n",
    "    # Forward pass: Compute predicted y by passing x to the model\n",
    "    y_pred = model(x)\n",
    "\n",
    "    # Compute and print loss\n",
    "    loss = criterion(y_pred, y)\n",
    "\n",
    "    if t % 100 == 99:\n",
    "        print(t, loss.item())\n",
    "\n",
    "    # Zero gradients, perform a backward pass, and update the weights.\n",
    "    optimizer.zero_grad()    \n",
    "    loss.backward()\n",
    "    optimizer.step()\n",
    "\n",
    "f'Result: {model.string()}'"
   ]
  },
  {
   "cell_type": "code",
   "execution_count": 7,
   "metadata": {},
   "outputs": [
    {
     "name": "stdout",
     "output_type": "stream",
     "text": [
      "Result: y = -0.026745673269033432 + 0.8438939452171326 * x + 0.004614072386175394 * x**2 + -0.09150303155183792 * x**3\n"
     ]
    }
   ],
   "source": [
    "print(f'Result: y = {model.a.item()} + {model.b.item()} * x + {model.c.item()} * x**2 + {model.d.item()} * x**3')"
   ]
  },
  {
   "cell_type": "code",
   "execution_count": 8,
   "metadata": {},
   "outputs": [
    {
     "data": {
      "image/png": "[encoded data removed]",
      "text/plain": [
       "<Figure size 432x288 with 1 Axes>"
      ]
     },
     "metadata": {
      "needs_background": "light"
     },
     "output_type": "display_data"
    }
   ],
   "source": [
    "y1 = model.a.item() + model.b.item() * x + model.c.item() * x**2 + model.d.item() * x**3\n",
    "\n",
    "plt.plot(x, y1); \n",
    "plt.plot(x, np.sin(x)); "
   ]
  }
 ],
 "metadata": {
  "kernelspec": {
   "display_name": "Python 3",
   "language": "python",
   "name": "python3"
  },
  "language_info": {
   "codemirror_mode": {
    "name": "ipython",
    "version": 3
   },
   "file_extension": ".py",
   "mimetype": "text/x-python",
   "name": "python",
   "nbconvert_exporter": "python",
   "pygments_lexer": "ipython3",
   "version": "3.8.5"
  }
 },
 "nbformat": 4,
 "nbformat_minor": 1
}
