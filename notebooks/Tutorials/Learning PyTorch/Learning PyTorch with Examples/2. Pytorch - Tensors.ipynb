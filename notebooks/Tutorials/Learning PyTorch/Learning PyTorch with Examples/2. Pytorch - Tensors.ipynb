{
 "cells": [
  {
   "cell_type": "markdown",
   "metadata": {},
   "source": [
    "# Pytorch: Tensors\n",
    "https://pytorch.org/tutorials/beginner/examples_tensor/polynomial_tensor.html"
   ]
  },
  {
   "cell_type": "code",
   "execution_count": 9,
   "metadata": {},
   "outputs": [
    {
     "name": "stdout",
     "output_type": "stream",
     "text": [
      "Populating the interactive namespace from numpy and matplotlib\n"
     ]
    },
    {
     "name": "stderr",
     "output_type": "stream",
     "text": [
      "C:\\Softwares\\Python\\lib\\site-packages\\IPython\\core\\magics\\pylab.py:159: UserWarning: pylab import has clobbered these variables: ['dtype']\n",
      "`%matplotlib` prevents importing * from pylab and numpy\n",
      "  warn(\"pylab import has clobbered these variables: %s\"  % clobbered +\n"
     ]
    }
   ],
   "source": [
    "%pylab inline"
   ]
  },
  {
   "cell_type": "markdown",
   "metadata": {},
   "source": [
    "\n",
    "PyTorch: Tensors\n",
    "----------------\n",
    "\n",
    "A third order polynomial, trained to predict $y=\\sin(x)$ from $-\\pi$\n",
    "to $pi$ by minimizing squared Euclidean distance.\n",
    "\n",
    "This implementation uses PyTorch tensors to manually compute the forward pass,\n",
    "loss, and backward pass.\n",
    "\n",
    "A PyTorch Tensor is basically the same as a numpy array: it does not know\n",
    "anything about deep learning or computational graphs or gradients, and is just\n",
    "a generic n-dimensional array to be used for arbitrary numeric computation.\n",
    "\n",
    "The biggest difference between a numpy array and a PyTorch Tensor is that\n",
    "a PyTorch Tensor can run on either CPU or GPU. To run operations on the GPU,\n",
    "just cast the Tensor to a cuda datatype.\n",
    "\n"
   ]
  },
  {
   "cell_type": "code",
   "execution_count": 36,
   "metadata": {},
   "outputs": [],
   "source": [
    "import math\n",
    "import torch\n",
    "\n",
    "\n",
    "dtype = torch.float\n",
    "# device = torch.device(\"cpu\")\n",
    "device = torch.device(\"cuda:0\") # Uncomment this to run on GPU\n",
    "\n",
    "# Create random input and output data\n",
    "x = torch.linspace(-math.pi, math.pi, 2000, device = device, dtype = dtype)\n",
    "y = torch.sin(x)"
   ]
  },
  {
   "cell_type": "code",
   "execution_count": 37,
   "metadata": {},
   "outputs": [
    {
     "name": "stdout",
     "output_type": "stream",
     "text": [
      "99 1033.9027099609375\n",
      "199 690.0274658203125\n",
      "299 461.654052734375\n",
      "399 309.94439697265625\n",
      "499 209.13272094726562\n",
      "599 142.12161254882812\n",
      "699 97.563232421875\n",
      "799 67.924072265625\n",
      "899 48.201324462890625\n",
      "999 35.07200241088867\n",
      "1099 26.32817840576172\n",
      "1199 20.502532958984375\n",
      "1299 16.619266510009766\n",
      "1399 14.029478073120117\n",
      "1499 12.301450729370117\n",
      "1599 11.147783279418945\n",
      "1699 10.377132415771484\n",
      "1799 9.862031936645508\n",
      "1899 9.51753044128418\n",
      "1999 9.286958694458008\n",
      "Result: y = -0.01068209484219551 + 0.8380943536758423 * x + 0.0018428376642987132 * x**2 + -0.09067808091640472 * x**3\n"
     ]
    }
   ],
   "source": [
    "# Randomly initialize weights\n",
    "a = torch.randn((), device = device, dtype = dtype)\n",
    "b = torch.randn((), device = device, dtype = dtype)\n",
    "c = torch.randn((), device = device, dtype = dtype)\n",
    "d = torch.randn((), device = device, dtype = dtype)\n",
    "\n",
    "learning_rate = 1e-6\n",
    "\n",
    "for t in range(2000):\n",
    "    \n",
    "    # Forward pass: compute predicted y\n",
    "    y_pred = a + b * x + c * x ** 2 + d * x ** 3\n",
    "\n",
    "    # Compute and print loss\n",
    "    loss = (y_pred - y).pow(2).sum().item()\n",
    "    if t % 100 == 99:\n",
    "        print(t, loss)\n",
    "\n",
    "    # Backprop to compute gradients of a, b, c, d with respect to loss\n",
    "    grad_y_pred = 2.0 * (y_pred - y)\n",
    "    grad_a = (grad_y_pred * x ** 0).sum()\n",
    "    grad_b = (grad_y_pred * x ** 1).sum()\n",
    "    grad_c = (grad_y_pred * x ** 2).sum()\n",
    "    grad_d = (grad_y_pred * x ** 3).sum()\n",
    "\n",
    "    # Update weights using gradient descent\n",
    "    a -= learning_rate * grad_a\n",
    "    b -= learning_rate * grad_b\n",
    "    c -= learning_rate * grad_c\n",
    "    d -= learning_rate * grad_d\n",
    "\n",
    "print(f'Result: y = {a.item()} + {b.item()} * x + {c.item()} * x**2 + {d.item()} * x**3')"
   ]
  },
  {
   "cell_type": "code",
   "execution_count": 38,
   "metadata": {},
   "outputs": [
    {
     "data": {
      "image/png": "[encoded data removed]",
      "text/plain": [
       "<Figure size 432x288 with 1 Axes>"
      ]
     },
     "metadata": {
      "needs_background": "light"
     },
     "output_type": "display_data"
    }
   ],
   "source": [
    "y = a + b * x + c * x ** 2 + d * x ** 3\n",
    "\n",
    "plt.plot(x.cpu(), y.cpu()); \n",
    "plt.plot(x.cpu(), np.sin(x.cpu()));"
   ]
  }
 ],
 "metadata": {
  "kernelspec": {
   "display_name": "Python 3",
   "language": "python",
   "name": "python3"
  },
  "language_info": {
   "codemirror_mode": {
    "name": "ipython",
    "version": 3
   },
   "file_extension": ".py",
   "mimetype": "text/x-python",
   "name": "python",
   "nbconvert_exporter": "python",
   "pygments_lexer": "ipython3",
   "version": "3.8.5"
  }
 },
 "nbformat": 4,
 "nbformat_minor": 1
}
