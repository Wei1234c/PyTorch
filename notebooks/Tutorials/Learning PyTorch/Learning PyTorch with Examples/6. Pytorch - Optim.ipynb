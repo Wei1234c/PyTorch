{
 "cells": [
  {
   "cell_type": "markdown",
   "metadata": {},
   "source": [
    "# Pytorch: Optim\n",
    "https://pytorch.org/tutorials/beginner/examples_nn/polynomial_optim.html"
   ]
  },
  {
   "cell_type": "code",
   "execution_count": 2,
   "metadata": {},
   "outputs": [
    {
     "name": "stdout",
     "output_type": "stream",
     "text": [
      "Populating the interactive namespace from numpy and matplotlib\n"
     ]
    }
   ],
   "source": [
    "%pylab inline"
   ]
  },
  {
   "cell_type": "markdown",
   "metadata": {},
   "source": [
    "\n",
    "PyTorch: optim\n",
    "--------------\n",
    "\n",
    "A third order polynomial, trained to predict $y=\\sin(x)$ from $-\\pi$\n",
    "to $pi$ by minimizing squared Euclidean distance.\n",
    "\n",
    "This implementation uses the nn package from PyTorch to build the network.\n",
    "\n",
    "Rather than manually updating the weights of the model as we have been doing,\n",
    "we use the optim package to define an Optimizer that will update the weights\n",
    "for us. The optim package defines many optimization algorithms that are commonly\n",
    "used for deep learning, including SGD+momentum, RMSProp, Adam, etc.\n",
    "\n"
   ]
  },
  {
   "cell_type": "code",
   "execution_count": 3,
   "metadata": {},
   "outputs": [],
   "source": [
    "import math\n",
    "\n",
    "import torch\n",
    "\n",
    "\n",
    "# Create Tensors to hold input and outputs.\n",
    "x = torch.linspace(-math.pi, math.pi, 2000)\n",
    "y = torch.sin(x)\n",
    "\n",
    "# Prepare the input tensor (x, x^2, x^3).\n",
    "p = torch.tensor([1, 2, 3])\n",
    "xx = x.unsqueeze(-1).pow(p)"
   ]
  },
  {
   "cell_type": "code",
   "execution_count": 4,
   "metadata": {},
   "outputs": [],
   "source": [
    "# Use the nn package to define our model and loss function.\n",
    "model = torch.nn.Sequential(torch.nn.Linear(3, 1),\n",
    "                            torch.nn.Flatten(0, 1))\n",
    "\n",
    "loss_fn = torch.nn.MSELoss(reduction = 'sum')"
   ]
  },
  {
   "cell_type": "markdown",
   "metadata": {},
   "source": [
    "### optimizer"
   ]
  },
  {
   "cell_type": "code",
   "execution_count": 5,
   "metadata": {},
   "outputs": [],
   "source": [
    "# Use the optim package to define an Optimizer that will update the weights of\n",
    "# the model for us. Here we will use RMSprop; the optim package contains many other\n",
    "# optimization algorithms. The first argument to the RMSprop constructor tells the\n",
    "# optimizer which Tensors it should update.\n",
    "learning_rate = 1e-3\n",
    "optimizer = torch.optim.RMSprop(model.parameters(), lr = learning_rate)"
   ]
  },
  {
   "cell_type": "code",
   "execution_count": 6,
   "metadata": {},
   "outputs": [
    {
     "name": "stdout",
     "output_type": "stream",
     "text": [
      "99 8883.9365234375\n",
      "199 3720.063720703125\n",
      "299 1803.00830078125\n",
      "399 894.4590454101562\n",
      "499 471.4889221191406\n",
      "599 304.27777099609375\n",
      "699 221.4602813720703\n",
      "799 154.96328735351562\n",
      "899 100.15933227539062\n",
      "999 59.48484802246094\n",
      "1099 32.619178771972656\n",
      "1199 17.431814193725586\n",
      "1299 12.133633613586426\n",
      "1399 9.045233726501465\n",
      "1499 8.833117485046387\n",
      "1599 8.83503532409668\n",
      "1699 8.896839141845703\n",
      "1799 8.969927787780762\n",
      "1899 8.908695220947266\n",
      "1999 8.90212345123291\n"
     ]
    }
   ],
   "source": [
    "for t in range(2000):\n",
    "    # Forward pass: compute predicted y by passing x to the model.\n",
    "    y_pred = model(xx)\n",
    "\n",
    "    # Compute and print loss.\n",
    "    loss = loss_fn(y_pred, y)\n",
    "\n",
    "    if t % 100 == 99:\n",
    "        print(t, loss.item())\n",
    "\n",
    "    # Before the backward pass, use the optimizer object to zero all of the\n",
    "    # gradients for the variables it will update (which are the learnable\n",
    "    # weights of the model). This is because by default, gradients are\n",
    "    # accumulated in buffers( i.e, not overwritten) whenever .backward()\n",
    "    # is called. Checkout docs of torch.autograd.backward for more details.\n",
    "    optimizer.zero_grad()\n",
    "\n",
    "    # Backward pass: compute gradient of the loss with respect to model\n",
    "    # parameters\n",
    "    loss.backward()\n",
    "\n",
    "    # Calling the step function on an Optimizer makes an update to its\n",
    "    # parameters\n",
    "    optimizer.step()"
   ]
  },
  {
   "cell_type": "code",
   "execution_count": 7,
   "metadata": {},
   "outputs": [
    {
     "data": {
      "text/plain": [
       "Linear(in_features=3, out_features=1, bias=True)"
      ]
     },
     "execution_count": 7,
     "metadata": {},
     "output_type": "execute_result"
    }
   ],
   "source": [
    "linear_layer = model[0]\n",
    "linear_layer"
   ]
  },
  {
   "cell_type": "code",
   "execution_count": 10,
   "metadata": {},
   "outputs": [
    {
     "name": "stdout",
     "output_type": "stream",
     "text": [
      "Result: y = 0.0006462933961302042 + 0.8571839332580566 * x + 0.0006457038689404726 * x**2 + -0.09288208931684494 * x**3\n"
     ]
    }
   ],
   "source": [
    "print(f'Result: y = {linear_layer.bias.item()} + \\\n",
    "{linear_layer.weight[:, 0].item()} * x + \\\n",
    "{linear_layer.weight[:, 1].item()} * x**2 + \\\n",
    "{linear_layer.weight[:, 2].item()} * x**3')"
   ]
  },
  {
   "cell_type": "code",
   "execution_count": 16,
   "metadata": {},
   "outputs": [
    {
     "data": {
      "image/png": "[encoded data removed]",
      "text/plain": [
       "<Figure size 432x288 with 1 Axes>"
      ]
     },
     "metadata": {
      "needs_background": "light"
     },
     "output_type": "display_data"
    }
   ],
   "source": [
    "y = linear_layer.bias.item() + \\\n",
    "    linear_layer.weight[:, 0] * x**1 + \\\n",
    "    linear_layer.weight[:, 1] * x**2 + \\\n",
    "    linear_layer.weight[:, 2] * x**3\n",
    "\n",
    "plt.plot(x, y.detach()); \n",
    "plt.plot(x, np.sin(x)); "
   ]
  }
 ],
 "metadata": {
  "kernelspec": {
   "display_name": "Python 3",
   "language": "python",
   "name": "python3"
  },
  "language_info": {
   "codemirror_mode": {
    "name": "ipython",
    "version": 3
   },
   "file_extension": ".py",
   "mimetype": "text/x-python",
   "name": "python",
   "nbconvert_exporter": "python",
   "pygments_lexer": "ipython3",
   "version": "3.8.5"
  }
 },
 "nbformat": 4,
 "nbformat_minor": 1
}
