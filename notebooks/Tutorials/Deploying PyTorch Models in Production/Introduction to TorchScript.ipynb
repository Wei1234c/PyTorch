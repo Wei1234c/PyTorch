{
 "cells": [
  {
   "cell_type": "markdown",
   "metadata": {},
   "source": [
    "\n",
    "Introduction to TorchScript\n",
    "===========================\n",
    "\n",
    "https://pytorch.org/tutorials/beginner/Intro_to_TorchScript_tutorial.html  \n",
    "\n",
    "*James Reed (jamesreed@fb.com), Michael Suo (suo@fb.com)*, rev2\n",
    "\n",
    "This tutorial is an introduction to TorchScript, an intermediate\n",
    "representation of a PyTorch model (subclass of `nn.Module`) that\n",
    "can then be run in a high-performance environment such as C++.\n",
    "\n",
    "In this tutorial we will cover:\n",
    "\n",
    "1. The basics of model authoring in PyTorch, including:\n",
    "\n",
    "-  Modules\n",
    "-  Defining `forward` functions\n",
    "-  Composing modules into a hierarchy of modules\n",
    "\n",
    "2. Specific methods for converting PyTorch modules to TorchScript, our\n",
    "   high-performance deployment runtime\n",
    "\n",
    "-  Tracing an existing module\n",
    "-  Using scripting to directly compile a module\n",
    "-  How to compose both approaches\n",
    "-  Saving and loading TorchScript modules\n",
    "\n",
    "We hope that after you complete this tutorial, you will proceed to go through\n",
    "[the follow-on tutorial](https://pytorch.org/tutorials/advanced/cpp_export.html) which will walk you through an example of actually calling a TorchScript\n",
    "model from C++.\n",
    "\n",
    "\n"
   ]
  },
  {
   "cell_type": "code",
   "execution_count": 1,
   "metadata": {},
   "outputs": [
    {
     "name": "stdout",
     "output_type": "stream",
     "text": [
      "Populating the interactive namespace from numpy and matplotlib\n",
      "1.7.1\n"
     ]
    }
   ],
   "source": [
    "%pylab inline\n",
    "import torch  # This is all you need to use both PyTorch and TorchScript!\n",
    "\n",
    "print(torch.__version__)"
   ]
  },
  {
   "cell_type": "markdown",
   "metadata": {},
   "source": [
    "Basics of PyTorch Model Authoring\n",
    "---------------------------------\n",
    "\n",
    "Let’s start out be defining a simple `Module`. A `Module` is the\n",
    "basic unit of composition in PyTorch. It contains:\n",
    "\n",
    "1. A constructor, which prepares the module for invocation\n",
    "2. A set of `Parameters` and sub-\\ `Modules`. These are initialized\n",
    "   by the constructor and can be used by the module during invocation.\n",
    "3. A `forward` function. This is the code that is run when the module\n",
    "   is invoked.\n",
    "\n",
    "Let’s examine a small example:\n",
    "\n",
    "\n"
   ]
  },
  {
   "cell_type": "code",
   "execution_count": 2,
   "metadata": {},
   "outputs": [
    {
     "name": "stdout",
     "output_type": "stream",
     "text": [
      "(tensor([[0.6791, 0.8471, 0.8562, 0.8068],\n",
      "        [0.5556, 0.6180, 0.7629, 0.0257],\n",
      "        [0.9599, 0.7501, 0.5450, 0.5858]]), tensor([[0.6791, 0.8471, 0.8562, 0.8068],\n",
      "        [0.5556, 0.6180, 0.7629, 0.0257],\n",
      "        [0.9599, 0.7501, 0.5450, 0.5858]]))\n"
     ]
    }
   ],
   "source": [
    "class MyCell(torch.nn.Module):\n",
    "    \n",
    "    def __init__(self):\n",
    "        super(MyCell, self).__init__()\n",
    "\n",
    "    def forward(self, x, h):\n",
    "        new_h = torch.tanh(x + h)\n",
    "        return new_h, new_h\n",
    "\n",
    "my_cell = MyCell()\n",
    "x = torch.rand(3, 4)\n",
    "h = torch.rand(3, 4)\n",
    "\n",
    "print(my_cell(x, h))"
   ]
  },
  {
   "cell_type": "markdown",
   "metadata": {},
   "source": [
    "So we’ve:\n",
    "\n",
    "1. Created a class that subclasses `torch.nn.Module`.\n",
    "2. Defined a constructor. The constructor doesn’t do much, just calls\n",
    "   the constructor for `super`.\n",
    "3. Defined a `forward` function, which takes two inputs and returns\n",
    "   two outputs. The actual contents of the `forward` function are not\n",
    "   really important, but it’s sort of a fake [RNN cell](https://colah.github.io/posts/2015-08-Understanding-LSTMs/) – that\n",
    "   is–it’s a function that is applied on a loop.\n",
    "\n",
    "We instantiated the module, and made `x` and `y`, which are just 3x4\n",
    "matrices of random values. Then we invoked the cell with\n",
    "`my_cell(x, h)`. This in turn calls our `forward` function.\n",
    "\n",
    "Let’s do something a little more interesting:"
   ]
  },
  {
   "cell_type": "code",
   "execution_count": 3,
   "metadata": {},
   "outputs": [
    {
     "name": "stdout",
     "output_type": "stream",
     "text": [
      "MyCell(\n",
      "  (linear): Linear(in_features=4, out_features=4, bias=True)\n",
      ")\n",
      "(tensor([[ 0.6921,  0.2302,  0.2329, -0.3560],\n",
      "        [ 0.4789, -0.0357,  0.5427,  0.0184],\n",
      "        [ 0.8818,  0.5149, -0.3078, -0.4866]], grad_fn=<TanhBackward>), tensor([[ 0.6921,  0.2302,  0.2329, -0.3560],\n",
      "        [ 0.4789, -0.0357,  0.5427,  0.0184],\n",
      "        [ 0.8818,  0.5149, -0.3078, -0.4866]], grad_fn=<TanhBackward>))\n"
     ]
    }
   ],
   "source": [
    "class MyCell(torch.nn.Module):\n",
    "    \n",
    "    def __init__(self):\n",
    "        super(MyCell, self).__init__()\n",
    "        self.linear = torch.nn.Linear(4, 4)\n",
    "\n",
    "    def forward(self, x, h):\n",
    "        new_h = torch.tanh(self.linear(x) + h)\n",
    "        return new_h, new_h\n",
    "\n",
    "my_cell = MyCell()\n",
    "print(my_cell)\n",
    "print(my_cell(x, h))"
   ]
  },
  {
   "cell_type": "markdown",
   "metadata": {},
   "source": [
    "We’ve redefined our module `MyCell`, but this time we’ve added a\n",
    "`self.linear` attribute, and we invoke `self.linear` in the forward\n",
    "function.\n",
    "\n",
    "What exactly is happening here? `torch.nn.Linear` is a `Module` from\n",
    "the PyTorch standard library. Just like `MyCell`, it can be invoked\n",
    "using the call syntax. We are building a hierarchy of `Module`s.\n",
    "\n",
    "`print` on a `Module` will give a visual representation of the\n",
    "`Module`’s subclass hierarchy. In our example, we can see our\n",
    "`Linear` subclass and its parameters.\n",
    "\n",
    "By composing `Module`s in this way, we can succintly and readably\n",
    "author models with reusable components.\n",
    "\n",
    "You may have noticed `grad_fn` on the outputs. This is a detail of\n",
    "PyTorch’s method of automatic differentiation, called [autograd](https://pytorch.org/tutorials/beginner/blitz/autograd_tutorial.html).\n",
    "In short, this system allows us to compute derivatives through\n",
    "potentially complex programs. The design allows for a massive amount of\n",
    "flexibility in model authoring.\n",
    "\n",
    "Now let’s examine said flexibility:"
   ]
  },
  {
   "cell_type": "code",
   "execution_count": 4,
   "metadata": {},
   "outputs": [
    {
     "name": "stdout",
     "output_type": "stream",
     "text": [
      "MyCell(\n",
      "  (dg): MyDecisionGate()\n",
      "  (linear): Linear(in_features=4, out_features=4, bias=True)\n",
      ")\n",
      "(tensor([[-0.0827,  0.7075,  0.6330,  0.7961],\n",
      "        [ 0.0556,  0.3315,  0.7769,  0.3685],\n",
      "        [ 0.3405,  0.7124,  0.4659,  0.7337]], grad_fn=<TanhBackward>), tensor([[-0.0827,  0.7075,  0.6330,  0.7961],\n",
      "        [ 0.0556,  0.3315,  0.7769,  0.3685],\n",
      "        [ 0.3405,  0.7124,  0.4659,  0.7337]], grad_fn=<TanhBackward>))\n"
     ]
    }
   ],
   "source": [
    "class MyDecisionGate(torch.nn.Module):\n",
    "    \n",
    "    def forward(self, x):\n",
    "        if x.sum() > 0:\n",
    "            return x\n",
    "        else:\n",
    "            return -x\n",
    "\n",
    "        \n",
    "class MyCell(torch.nn.Module):\n",
    "    \n",
    "    def __init__(self):\n",
    "        super(MyCell, self).__init__()\n",
    "        self.dg = MyDecisionGate()\n",
    "        self.linear = torch.nn.Linear(4, 4)\n",
    "\n",
    "    def forward(self, x, h):\n",
    "        new_h = torch.tanh(self.dg(self.linear(x)) + h)\n",
    "        return new_h, new_h\n",
    "\n",
    "my_cell = MyCell()\n",
    "print(my_cell)\n",
    "print(my_cell(x, h))"
   ]
  },
  {
   "cell_type": "markdown",
   "metadata": {},
   "source": [
    "We’ve once again redefined our MyCell class, but here we’ve defined\n",
    "`MyDecisionGate`. This module utilizes **control flow**. Control flow\n",
    "consists of things like loops and `if`-statements.\n",
    "\n",
    "Many frameworks take the approach of computing symbolic derivatives\n",
    "given a full program representation. However, in PyTorch, we use a\n",
    "gradient tape. We record operations as they occur, and replay them\n",
    "backwards in computing derivatives. In this way, the framework does not\n",
    "have to explicitly define derivatives for all constructs in the\n",
    "language.\n",
    "\n",
    "![How autograd works](https://github.com/pytorch/pytorch/raw/master/docs/source/_static/img/dynamic_graph.gif)\n",
    "\n",
    "   How autograd works\n",
    "\n",
    "\n"
   ]
  },
  {
   "cell_type": "markdown",
   "metadata": {},
   "source": [
    "Basics of TorchScript\n",
    "---------------------\n",
    "\n",
    "Now let’s take our running example and see how we can apply TorchScript.\n",
    "\n",
    "In short, TorchScript provides tools to capture the definition of your\n",
    "model, even in light of the flexible and dynamic nature of PyTorch.\n",
    "Let’s begin by examining what we call **tracing**.\n",
    "\n",
    "### Tracing `Modules`"
   ]
  },
  {
   "cell_type": "code",
   "execution_count": 5,
   "metadata": {},
   "outputs": [
    {
     "name": "stdout",
     "output_type": "stream",
     "text": [
      "MyCell(\n",
      "  original_name=MyCell\n",
      "  (linear): Linear(original_name=Linear)\n",
      ")\n"
     ]
    },
    {
     "data": {
      "text/plain": [
       "(tensor([[-0.1567,  0.4394,  0.2178,  0.7023],\n",
       "         [-0.0689,  0.2300,  0.1858,  0.8595],\n",
       "         [-0.3193, -0.1652,  0.2266,  0.9418]], grad_fn=<TanhBackward>),\n",
       " tensor([[-0.1567,  0.4394,  0.2178,  0.7023],\n",
       "         [-0.0689,  0.2300,  0.1858,  0.8595],\n",
       "         [-0.3193, -0.1652,  0.2266,  0.9418]], grad_fn=<TanhBackward>))"
      ]
     },
     "execution_count": 5,
     "metadata": {},
     "output_type": "execute_result"
    }
   ],
   "source": [
    "class MyCell(torch.nn.Module):\n",
    "    \n",
    "    def __init__(self):\n",
    "        super(MyCell, self).__init__()\n",
    "        self.linear = torch.nn.Linear(4, 4)\n",
    "\n",
    "    def forward(self, x, h):\n",
    "        new_h = torch.tanh(self.linear(x) + h)\n",
    "        return new_h, new_h\n",
    "\n",
    "my_cell = MyCell()\n",
    "x, h = torch.rand(3, 4), torch.rand(3, 4)\n",
    "\n",
    "traced_cell = torch.jit.trace(my_cell, (x, h))\n",
    "\n",
    "print(traced_cell)\n",
    "traced_cell(x, h)"
   ]
  },
  {
   "cell_type": "markdown",
   "metadata": {},
   "source": [
    "We’ve rewinded a bit and taken the second version of our `MyCell`\n",
    "class. As before, we’ve instantiated it, but this time, we’ve called\n",
    "`torch.jit.trace`, passed in the `Module`, and passed in *example\n",
    "inputs* the network might see.\n",
    "\n",
    "What exactly has this done? It has invoked the `Module`, recorded the\n",
    "operations that occured when the `Module` was run, and created an\n",
    "instance of `torch.jit.ScriptModule` (of which `TracedModule` is an\n",
    "instance)\n",
    "\n",
    "TorchScript records its definitions in an Intermediate Representation\n",
    "(or IR), commonly referred to in Deep learning as a ***graph***. We can\n",
    "examine the graph with the `.graph` property:\n",
    "\n",
    "\n"
   ]
  },
  {
   "cell_type": "code",
   "execution_count": 6,
   "metadata": {},
   "outputs": [
    {
     "name": "stdout",
     "output_type": "stream",
     "text": [
      "graph(%self.1 : __torch__.MyCell,\n",
      "      %input : Float(3:4, 4:1, requires_grad=0, device=cpu),\n",
      "      %h : Float(3:4, 4:1, requires_grad=0, device=cpu)):\n",
      "  %19 : __torch__.torch.nn.modules.linear.Linear = prim::GetAttr[name=\"linear\"](%self.1)\n",
      "  %21 : Tensor = prim::CallMethod[name=\"forward\"](%19, %input)\n",
      "  %12 : int = prim::Constant[value=1]() # <ipython-input-5-fcaeb15c7455>:8:0\n",
      "  %13 : Float(3:4, 4:1, requires_grad=1, device=cpu) = aten::add(%21, %h, %12) # <ipython-input-5-fcaeb15c7455>:8:0\n",
      "  %14 : Float(3:4, 4:1, requires_grad=1, device=cpu) = aten::tanh(%13) # <ipython-input-5-fcaeb15c7455>:8:0\n",
      "  %15 : (Float(3:4, 4:1, requires_grad=1, device=cpu), Float(3:4, 4:1, requires_grad=1, device=cpu)) = prim::TupleConstruct(%14, %14)\n",
      "  return (%15)\n",
      "\n"
     ]
    }
   ],
   "source": [
    "print(traced_cell.graph)"
   ]
  },
  {
   "cell_type": "markdown",
   "metadata": {},
   "source": [
    "However, this is a very low-level representation and most of the\n",
    "information contained in the graph is not useful for end users. Instead,\n",
    "we can use the `.code` property to give a Python-syntax interpretation\n",
    "of the code:\n",
    "\n",
    "\n"
   ]
  },
  {
   "cell_type": "code",
   "execution_count": 7,
   "metadata": {},
   "outputs": [
    {
     "name": "stdout",
     "output_type": "stream",
     "text": [
      "def forward(self,\n",
      "    input: Tensor,\n",
      "    h: Tensor) -> Tuple[Tensor, Tensor]:\n",
      "  _0 = torch.add((self.linear).forward(input, ), h, alpha=1)\n",
      "  _1 = torch.tanh(_0)\n",
      "  return (_1, _1)\n",
      "\n"
     ]
    }
   ],
   "source": [
    "print(traced_cell.code)"
   ]
  },
  {
   "cell_type": "markdown",
   "metadata": {},
   "source": [
    "So **why** did we do all this? There are several reasons:\n",
    "\n",
    "1. TorchScript code can be invoked in its own interpreter, which is\n",
    "   basically a restricted Python interpreter. This interpreter does not\n",
    "   acquire the Global Interpreter Lock, and so many requests can be\n",
    "   processed on the same instance simultaneously.\n",
    "2. This format allows us to save the whole model to disk and load it\n",
    "   into another environment, such as in a server written in a language\n",
    "   other than Python\n",
    "3. TorchScript gives us a representation in which we can do compiler\n",
    "   optimizations on the code to provide more efficient execution\n",
    "4. TorchScript allows us to interface with many backend/device runtimes\n",
    "   that require a broader view of the program than individual operators.\n",
    "\n",
    "We can see that invoking `traced_cell` produces the same results as\n",
    "the Python module:"
   ]
  },
  {
   "cell_type": "code",
   "execution_count": 8,
   "metadata": {},
   "outputs": [
    {
     "name": "stdout",
     "output_type": "stream",
     "text": [
      "(tensor([[-0.1567,  0.4394,  0.2178,  0.7023],\n",
      "        [-0.0689,  0.2300,  0.1858,  0.8595],\n",
      "        [-0.3193, -0.1652,  0.2266,  0.9418]], grad_fn=<TanhBackward>), tensor([[-0.1567,  0.4394,  0.2178,  0.7023],\n",
      "        [-0.0689,  0.2300,  0.1858,  0.8595],\n",
      "        [-0.3193, -0.1652,  0.2266,  0.9418]], grad_fn=<TanhBackward>))\n",
      "(tensor([[-0.1567,  0.4394,  0.2178,  0.7023],\n",
      "        [-0.0689,  0.2300,  0.1858,  0.8595],\n",
      "        [-0.3193, -0.1652,  0.2266,  0.9418]], grad_fn=<TanhBackward>), tensor([[-0.1567,  0.4394,  0.2178,  0.7023],\n",
      "        [-0.0689,  0.2300,  0.1858,  0.8595],\n",
      "        [-0.3193, -0.1652,  0.2266,  0.9418]], grad_fn=<TanhBackward>))\n"
     ]
    }
   ],
   "source": [
    "print(my_cell(x, h))\n",
    "print(traced_cell(x, h))"
   ]
  },
  {
   "cell_type": "markdown",
   "metadata": {},
   "source": [
    "Using Scripting to Convert Modules\n",
    "----------------------------------\n",
    "\n",
    "There’s a reason we used version two of our module, and not the one with\n",
    "the control-flow-laden submodule. Let’s examine that now:\n",
    "\n",
    "\n"
   ]
  },
  {
   "cell_type": "code",
   "execution_count": 9,
   "metadata": {},
   "outputs": [
    {
     "name": "stdout",
     "output_type": "stream",
     "text": [
      "def forward(self,\n",
      "    input: Tensor,\n",
      "    h: Tensor) -> Tuple[Tensor, Tensor]:\n",
      "  _0 = (self.dg).forward((self.linear).forward(input, ), )\n",
      "  _1 = torch.tanh(torch.add(_0, h, alpha=1))\n",
      "  return (_1, _1)\n",
      "\n"
     ]
    },
    {
     "name": "stderr",
     "output_type": "stream",
     "text": [
      "<ipython-input-9-48be1313816c>:4: TracerWarning: Converting a tensor to a Python boolean might cause the trace to be incorrect. We can't record the data flow of Python values, so this value will be treated as a constant in the future. This means that the trace might not generalize to other inputs!\n",
      "  if x.sum() > 0:\n"
     ]
    }
   ],
   "source": [
    "class MyDecisionGate(torch.nn.Module):\n",
    "\n",
    "    def forward(self, x):\n",
    "        if x.sum() > 0:\n",
    "            return x\n",
    "        else:\n",
    "            return -x\n",
    "\n",
    "\n",
    "\n",
    "class MyCell(torch.nn.Module):\n",
    "\n",
    "    def __init__(self, dg):\n",
    "        super(MyCell, self).__init__()\n",
    "        self.dg = dg\n",
    "        self.linear = torch.nn.Linear(4, 4)\n",
    "\n",
    "\n",
    "    def forward(self, x, h):\n",
    "        new_h = torch.tanh(self.dg(self.linear(x)) + h)\n",
    "        return new_h, new_h\n",
    "\n",
    "\n",
    "\n",
    "my_cell = MyCell(MyDecisionGate())\n",
    "traced_cell = torch.jit.trace(my_cell, (x, h))\n",
    "print(traced_cell.code)"
   ]
  },
  {
   "cell_type": "markdown",
   "metadata": {},
   "source": [
    "Looking at the `.code` output, we can see that the `if-else` branch\n",
    "is nowhere to be found! Why? Tracing does exactly what we said it would:\n",
    "run the code, record the operations *that happen* and construct a\n",
    "ScriptModule that does exactly that. Unfortunately, **things like control\n",
    "flow are erased**.\n",
    "\n",
    "How can we faithfully represent this module in TorchScript? We provide a\n",
    "**script compiler**, which does direct analysis of your Python source\n",
    "code to transform it into TorchScript. Let’s convert `MyDecisionGate`\n",
    "using the script compiler:\n",
    "\n",
    "\n"
   ]
  },
  {
   "cell_type": "code",
   "execution_count": 10,
   "metadata": {},
   "outputs": [
    {
     "name": "stdout",
     "output_type": "stream",
     "text": [
      "def forward(self,\n",
      "    x: Tensor,\n",
      "    h: Tensor) -> Tuple[Tensor, Tensor]:\n",
      "  _0 = (self.dg).forward((self.linear).forward(x, ), )\n",
      "  new_h = torch.tanh(torch.add(_0, h, alpha=1))\n",
      "  return (new_h, new_h)\n",
      "\n"
     ]
    }
   ],
   "source": [
    "scripted_gate = torch.jit.script(MyDecisionGate())\n",
    "\n",
    "my_cell = MyCell(scripted_gate)\n",
    "traced_cell = torch.jit.script(my_cell)\n",
    "print(traced_cell.code)"
   ]
  },
  {
   "cell_type": "markdown",
   "metadata": {},
   "source": [
    "Hooray! We’ve now faithfully captured the behavior of our program in\n",
    "TorchScript. Let’s now try running the program:\n",
    "\n",
    "\n"
   ]
  },
  {
   "cell_type": "code",
   "execution_count": 11,
   "metadata": {},
   "outputs": [
    {
     "data": {
      "text/plain": [
       "(tensor([[ 0.1165,  0.4641,  0.8071, -0.0808],\n",
       "         [ 0.2434,  0.8202,  0.5847, -0.2853],\n",
       "         [ 0.7982,  0.4152,  0.5440,  0.0783]], grad_fn=<TanhBackward>),\n",
       " tensor([[ 0.1165,  0.4641,  0.8071, -0.0808],\n",
       "         [ 0.2434,  0.8202,  0.5847, -0.2853],\n",
       "         [ 0.7982,  0.4152,  0.5440,  0.0783]], grad_fn=<TanhBackward>))"
      ]
     },
     "execution_count": 11,
     "metadata": {},
     "output_type": "execute_result"
    }
   ],
   "source": [
    "# New inputs\n",
    "x, h = torch.rand(3, 4), torch.rand(3, 4)\n",
    "traced_cell(x, h)"
   ]
  },
  {
   "cell_type": "markdown",
   "metadata": {},
   "source": [
    "### Mixing Scripting and Tracing\n",
    "\n",
    "Some situations call for using tracing rather than scripting (e.g. a\n",
    "module has many architectural decisions that are made based on constant\n",
    "Python values that we would like to not appear in TorchScript). In this\n",
    "case, scripting can be composed with tracing: `torch.jit.script` will\n",
    "inline the code for a traced module, and tracing will inline the code\n",
    "for a scripted module.\n",
    "\n",
    "An example of the first case:\n",
    "\n",
    "\n"
   ]
  },
  {
   "cell_type": "code",
   "execution_count": 12,
   "metadata": {},
   "outputs": [
    {
     "name": "stdout",
     "output_type": "stream",
     "text": [
      "def forward(self,\n",
      "    xs: Tensor) -> Tuple[Tensor, Tensor]:\n",
      "  h = torch.zeros([3, 4], dtype=None, layout=None, device=None, pin_memory=None)\n",
      "  y = torch.zeros([3, 4], dtype=None, layout=None, device=None, pin_memory=None)\n",
      "  y0 = y\n",
      "  h0 = h\n",
      "  for i in range(torch.size(xs, 0)):\n",
      "    _0 = (self.cell).forward(torch.select(xs, 0, i), h0, )\n",
      "    y1, h1, = _0\n",
      "    y0, h0 = y1, h1\n",
      "  return (y0, h0)\n",
      "\n"
     ]
    }
   ],
   "source": [
    "class MyRNNLoop(torch.nn.Module):\n",
    "\n",
    "    def __init__(self):\n",
    "        super(MyRNNLoop, self).__init__()\n",
    "        self.cell = torch.jit.trace(MyCell(scripted_gate), (x, h))\n",
    "\n",
    "\n",
    "    def forward(self, xs):\n",
    "        h, y = torch.zeros(3, 4), torch.zeros(3, 4)\n",
    "\n",
    "        for i in range(xs.size(0)):\n",
    "            y, h = self.cell(xs[i], h)\n",
    "\n",
    "        return y, h\n",
    "\n",
    "\n",
    "\n",
    "rnn_loop = torch.jit.script(MyRNNLoop())\n",
    "print(rnn_loop.code)"
   ]
  },
  {
   "cell_type": "markdown",
   "metadata": {},
   "source": [
    "And an example of the second case:\n",
    "\n",
    "\n"
   ]
  },
  {
   "cell_type": "code",
   "execution_count": 13,
   "metadata": {},
   "outputs": [
    {
     "name": "stdout",
     "output_type": "stream",
     "text": [
      "def forward(self,\n",
      "    argument_1: Tensor) -> Tensor:\n",
      "  _0, y, = (self.loop).forward(argument_1, )\n",
      "  return torch.relu(y)\n",
      "\n"
     ]
    }
   ],
   "source": [
    "class WrapRNN(torch.nn.Module):\n",
    "\n",
    "    def __init__(self):\n",
    "        super(WrapRNN, self).__init__()\n",
    "        self.loop = torch.jit.script(MyRNNLoop())\n",
    "\n",
    "\n",
    "    def forward(self, xs):\n",
    "        y, h = self.loop(xs)\n",
    "        return torch.relu(y)\n",
    "\n",
    "\n",
    "\n",
    "traced = torch.jit.trace(WrapRNN(), (torch.rand(10, 3, 4)))\n",
    "print(traced.code)"
   ]
  },
  {
   "cell_type": "markdown",
   "metadata": {},
   "source": [
    "This way, scripting and tracing can be used when the situation calls for\n",
    "each of them and used together.\n",
    "\n",
    "Saving and Loading models\n",
    "-------------------------\n",
    "\n",
    "We provide APIs to save and load TorchScript modules to/from disk in an\n",
    "archive format. This format includes code, parameters, attributes, and\n",
    "debug information, meaning that the archive is a freestanding\n",
    "representation of the model that can be loaded in an entirely separate\n",
    "process. Let’s save and load our wrapped RNN module:\n",
    "\n",
    "\n"
   ]
  },
  {
   "cell_type": "code",
   "execution_count": 14,
   "metadata": {},
   "outputs": [
    {
     "name": "stdout",
     "output_type": "stream",
     "text": [
      "RecursiveScriptModule(\n",
      "  original_name=WrapRNN\n",
      "  (loop): RecursiveScriptModule(\n",
      "    original_name=MyRNNLoop\n",
      "    (cell): RecursiveScriptModule(\n",
      "      original_name=MyCell\n",
      "      (dg): RecursiveScriptModule(original_name=MyDecisionGate)\n",
      "      (linear): RecursiveScriptModule(original_name=Linear)\n",
      "    )\n",
      "  )\n",
      ")\n",
      "def forward(self,\n",
      "    argument_1: Tensor) -> Tensor:\n",
      "  _0, y, = (self.loop).forward(argument_1, )\n",
      "  return torch.relu(y)\n",
      "\n"
     ]
    }
   ],
   "source": [
    "traced.save('wrapped_rnn.pt')\n",
    "\n",
    "loaded = torch.jit.load('wrapped_rnn.pt')\n",
    "\n",
    "print(loaded)\n",
    "print(loaded.code)"
   ]
  },
  {
   "cell_type": "markdown",
   "metadata": {},
   "source": [
    "As you can see, serialization preserves the module hierarchy and the\n",
    "code we’ve been examining throughout. The model can also be loaded, for\n",
    "example, [into C++](https://pytorch.org/tutorials/advanced/cpp_export.html) for\n",
    "python-free execution.\n",
    "\n",
    "### Further Reading \n",
    "\n",
    "We’ve completed our tutorial! For a more involved demonstration, check\n",
    "out the [NeurIPS demo](https://colab.research.google.com/drive/1HiICg6jRkBnr5hvK2-VnMi88Vi9pUzEJ) for converting machine translation models using\n",
    "TorchScript."
   ]
  }
 ],
 "metadata": {
  "kernelspec": {
   "display_name": "Python 3",
   "language": "python",
   "name": "python3"
  },
  "language_info": {
   "codemirror_mode": {
    "name": "ipython",
    "version": 3
   },
   "file_extension": ".py",
   "mimetype": "text/x-python",
   "name": "python",
   "nbconvert_exporter": "python",
   "pygments_lexer": "ipython3",
   "version": "3.8.5"
  }
 },
 "nbformat": 4,
 "nbformat_minor": 1
}
